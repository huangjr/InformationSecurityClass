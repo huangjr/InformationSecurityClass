{
 "cells": [
  {
   "cell_type": "code",
   "execution_count": 1,
   "metadata": {},
   "outputs": [],
   "source": [
    "from Crypto.Cipher import AES\n",
    "import os\n",
    "\n",
    "key = os.urandom(32)\n",
    "aes = AES.new(key, AES.MODE_ECB)"
   ]
  },
  {
   "cell_type": "code",
   "execution_count": 2,
   "metadata": {},
   "outputs": [],
   "source": [
    "text= \"hello this is mama\""
   ]
  },
  {
   "cell_type": "code",
   "execution_count": 4,
   "metadata": {},
   "outputs": [
    {
     "data": {
      "text/plain": [
       "50"
      ]
     },
     "execution_count": 4,
     "metadata": {},
     "output_type": "execute_result"
    }
   ],
   "source": [
    "im = open(\"ppmfile\", \"w\")\n",
    "header = \"P3\\n22 22\\n225\\n\"\n",
    "im.write(header)\n",
    "im.write(str(aes.encrypt(text.encode(\"ascii\"))))"
   ]
  },
  {
   "cell_type": "code",
   "execution_count": 6,
   "metadata": {},
   "outputs": [],
   "source": [
    "def pad(plaintext):\n",
    "    padding = 16-len(plaintext)\n",
    "    plaintext + [padding]*padding\n",
    "    return plaintext"
   ]
  },
  {
   "cell_type": "code",
   "execution_count": null,
   "metadata": {},
   "outputs": [],
   "source": []
  },
  {
   "cell_type": "code",
   "execution_count": 7,
   "metadata": {},
   "outputs": [],
   "source": [
    "def unpad(plaintext):\n",
    "    padding = int(plaintext[-1])\n",
    "    plaintext = plaintext[:-padding]\n",
    "    return plaintext"
   ]
  },
  {
   "cell_type": "code",
   "execution_count": 8,
   "metadata": {},
   "outputs": [
    {
     "ename": "TypeError",
     "evalue": "can only concatenate str (not \"list\") to str",
     "output_type": "error",
     "traceback": [
      "\u001b[1;31m---------------------------------------------------------------------------\u001b[0m",
      "\u001b[1;31mTypeError\u001b[0m                                 Traceback (most recent call last)",
      "\u001b[1;32m<ipython-input-8-26ccb6c2d5b7>\u001b[0m in \u001b[0;36m<module>\u001b[1;34m\u001b[0m\n\u001b[1;32m----> 1\u001b[1;33m \u001b[0mtext\u001b[0m \u001b[1;33m=\u001b[0m \u001b[0mpad\u001b[0m\u001b[1;33m(\u001b[0m\u001b[0mtext\u001b[0m\u001b[1;33m)\u001b[0m\u001b[1;33m\u001b[0m\u001b[1;33m\u001b[0m\u001b[0m\n\u001b[0m",
      "\u001b[1;32m<ipython-input-6-67742f39372e>\u001b[0m in \u001b[0;36mpad\u001b[1;34m(plaintext)\u001b[0m\n\u001b[0;32m      1\u001b[0m \u001b[1;32mdef\u001b[0m \u001b[0mpad\u001b[0m\u001b[1;33m(\u001b[0m\u001b[0mplaintext\u001b[0m\u001b[1;33m)\u001b[0m\u001b[1;33m:\u001b[0m\u001b[1;33m\u001b[0m\u001b[1;33m\u001b[0m\u001b[0m\n\u001b[0;32m      2\u001b[0m     \u001b[0mpadding\u001b[0m \u001b[1;33m=\u001b[0m \u001b[1;36m16\u001b[0m\u001b[1;33m-\u001b[0m\u001b[0mlen\u001b[0m\u001b[1;33m(\u001b[0m\u001b[0mplaintext\u001b[0m\u001b[1;33m)\u001b[0m\u001b[1;33m\u001b[0m\u001b[1;33m\u001b[0m\u001b[0m\n\u001b[1;32m----> 3\u001b[1;33m     \u001b[0mplaintext\u001b[0m \u001b[1;33m+\u001b[0m \u001b[1;33m[\u001b[0m\u001b[0mpadding\u001b[0m\u001b[1;33m]\u001b[0m\u001b[1;33m*\u001b[0m\u001b[0mpadding\u001b[0m\u001b[1;33m\u001b[0m\u001b[1;33m\u001b[0m\u001b[0m\n\u001b[0m",
      "\u001b[1;31mTypeError\u001b[0m: can only concatenate str (not \"list\") to str"
     ]
    }
   ],
   "source": [
    "text = pad(text)"
   ]
  },
  {
   "cell_type": "code",
   "execution_count": null,
   "metadata": {},
   "outputs": [],
   "source": [
    "def inTwoOf(text):\n",
    "    for chr in text:\n",
    "        for a in range(2):\n",
    "            "
   ]
  },
  {
   "cell_type": "code",
   "execution_count": 125,
   "metadata": {},
   "outputs": [
    {
     "name": "stdout",
     "output_type": "stream",
     "text": [
      "b'12345678'\n",
      "64844860269766466673012020867207740986\n",
      "<class 'int'>\n"
     ]
    }
   ],
   "source": [
    "# b'...' ...:means string\n",
    "# \\xnn nn:means it's a character, if it's unprintable, then \\xnn print out. end is\\x7a\n",
    "# how to split to seperate hex??\n",
    "# remain the for of \\x, don't decode\n",
    "a = b'\\xc2\\x8b\\xfc\\x56\\x09\\x1a\\x0a\\x6a\\xb9\\xda\\xb8\\x42\\x8b\\x01\\xef\\x4c'\n",
    "b = b'\\xf2\\x43\\x56\\x24\\xb4\\xd6\\xe3\\xa4\\x90\\xc2\\xd4\\x11\\x99\\xf2\\xd1\\x76'\n",
    "key = \"0x12345678\"\n",
    "# str to byte. str->hex->int->hex->bytes\n",
    "key = key.encode(\"utf8\")[2:]\n",
    "print(key)\n",
    "ab_xor = int(a.hex(),16) ^ int(b.hex(),16)\n",
    "# a_hex is str\n",
    "print(ab_xor)\n",
    "print(type(ab_xor))"
   ]
  },
  {
   "cell_type": "code",
   "execution_count": 140,
   "metadata": {},
   "outputs": [
    {
     "name": "stdout",
     "output_type": "stream",
     "text": [
      "b'0\\xc8\\xaar\\xbd\\xcc\\xe9\\xce)\\x18lS\\x12\\xf3>:'\n",
      "<class 'bytes'>\n",
      "48\n",
      "200\n",
      "170\n",
      "114\n",
      "189\n",
      "204\n",
      "233\n",
      "206\n",
      "41\n",
      "24\n",
      "108\n",
      "83\n",
      "18\n",
      "243\n",
      "62\n",
      "58\n"
     ]
    }
   ],
   "source": [
    "# translate back to b'\\x\\x\\x' form in one line\n",
    "a_bytes = bytes.fromhex(hex(ab_xor)[2:])\n",
    "print(a_bytes)\n",
    "print(type(a_bytes))\n",
    "for a in a_bytes:\n",
    "    "
   ]
  },
  {
   "cell_type": "code",
   "execution_count": 134,
   "metadata": {},
   "outputs": [],
   "source": [
    "def pad(text, num):\n",
    "    padding = num - (len(text) % num)\n",
    "    return text + bytes([padding] * padding)"
   ]
  },
  {
   "cell_type": "code",
   "execution_count": 226,
   "metadata": {
    "scrolled": true
   },
   "outputs": [
    {
     "name": "stdout",
     "output_type": "stream",
     "text": [
      "d1d9d14c696f7798be6c5ff7c3de1bbe\n",
      "b'\\xd1\\xd9\\xd1Liow\\x98\\xbel_\\xf7\\xc3\\xde\\x1b\\xbe'\n",
      "b'\\x9d\\xc7;=\\xf2\\xa9\\x03\\xaevb\\xf5\\xac\\x8d\\x07\\xc4\\x8b'\n"
     ]
    }
   ],
   "source": [
    "text = b'\\xff\\xfa\\xff\\xf1\\xfa\\xff\\xff\\xff\\xff\\xff\\xf4\\xff\\xff\\xff\\xff\\xff'\n",
    "key = b'123456789abcdef0'\n",
    "iv = b'.#.\\xbd\\x93\\x90\\x88gA\\x93\\xab\\x08<!\\xe4A'\n",
    "\n",
    "def CBC_encrypt(text, key, iv):\n",
    "    cipher_ECB = AES.new(pad(key, 16), AES.MODE_ECB)\n",
    "    # xor text with iv\n",
    "    data = \"\"\n",
    "    for a,b in zip(text, iv):\n",
    "        c = format(a^b, '#04x')\n",
    "        data += c[2:]\n",
    "    print(data)\n",
    "    cText = bytes.fromhex(data)\n",
    "    print(cText)\n",
    "    # encrypt text with key in ECB mode\n",
    "    cText = cipher_ECB.encrypt(cText)\n",
    "    # return text for next round's iv\n",
    "    return cText\n",
    "\n",
    "ciphertext = CBC_encrypt(text, key, iv)\n",
    "print(ciphertext)"
   ]
  },
  {
   "cell_type": "code",
   "execution_count": 227,
   "metadata": {},
   "outputs": [
    {
     "name": "stdout",
     "output_type": "stream",
     "text": [
      "linux_logo.pmm\n"
     ]
    }
   ],
   "source": [
    "filename = \"linux_logo.jpg\"\n",
    "pmm = filename.split(\".\",2)[0]+\".pmm\"\n",
    "print(pmm)"
   ]
  },
  {
   "cell_type": "code",
   "execution_count": null,
   "metadata": {},
   "outputs": [],
   "source": [
    "# unpad: remove the number of repeating character\n",
    "extext = b'\\x83\\xf3\\x93\\x02\\x95\\x'\n",
    "def unpad(text):"
   ]
  },
  {
   "cell_type": "code",
   "execution_count": 9,
   "metadata": {},
   "outputs": [
    {
     "name": "stdout",
     "output_type": "stream",
     "text": [
      "3\n"
     ]
    }
   ],
   "source": [
    "# the DIY part, tree subword, whenever there is a complete square root, we generate one subword for the next plaintext\n",
    "import math\n",
    "depth = 0\n",
    "a = range(16) # 1-16, 16 of them\n",
    "print(int(math.log(15,2)))\n",
    "# everytime the current encryption reach the depth of the stored key, they would merge together and form a iv that has one more\n",
    "# depth, everytime a merge happen, the current iv would given to the next round, there would be only two iv there, the one have\n",
    "# higher depth, and the one has lower depth\n",
    "# so it's like the deeper one always waiting the less deeper one to catch it.\n",
    "# and the space complexity would increase when we go to the later block.\n",
    "# always take the rightmost iv be the real iv\n"
   ]
  },
  {
   "cell_type": "code",
   "execution_count": 10,
   "metadata": {},
   "outputs": [
    {
     "name": "stdout",
     "output_type": "stream",
     "text": [
      "2\n"
     ]
    }
   ],
   "source": [
    "# dictionary test, use int as key and value\n",
    "dic = {0:0, 1:2}\n",
    "print(dic[1])"
   ]
  },
  {
   "cell_type": "code",
   "execution_count": 13,
   "metadata": {},
   "outputs": [],
   "source": [
    "# tuple generator\n",
    "def tugen(list):\n",
    "    for element,i in zip(list, range(len(list))):\n",
    "        element = \n",
    "        yield (i, element)"
   ]
  },
  {
   "cell_type": "code",
   "execution_count": 14,
   "metadata": {},
   "outputs": [
    {
     "name": "stdout",
     "output_type": "stream",
     "text": [
      "(0, 'mar')\n",
      "(1, 'dan')\n",
      "(2, 'amy')\n",
      "(3, 'nat')\n",
      "(4, 'cle')\n"
     ]
    }
   ],
   "source": [
    "student_name = [\"mark\", \"daniel\", \"amy\", \"nathan\", \"cleetus\"]\n",
    "for name in tugen(student_name):\n",
    "    print(name)"
   ]
  },
  {
   "cell_type": "code",
   "execution_count": 4,
   "metadata": {},
   "outputs": [],
   "source": [
    "def data_generator(pixs, number):\n",
    "    data = []\n",
    "    for pix in pixs:\n",
    "        data.append(pix) \n",
    "        if len(data) == number:\n",
    "            yield bytes(data)   # here would be execute every number time\n",
    "            data = []           # clear the buffer"
   ]
  },
  {
   "cell_type": "code",
   "execution_count": 19,
   "metadata": {},
   "outputs": [
    {
     "name": "stdout",
     "output_type": "stream",
     "text": [
      "b'\\x00\\x01\\x02\\x03\\x04\\x05\\x06\\x07'\n",
      "b'\\x08\\t\\n\\x0b\\x0c\\r\\x0e\\x0f'\n"
     ]
    }
   ],
   "source": [
    "image = b'\\x00\\x01\\x02\\x03\\x04\\x05\\x06\\x07\\x08\\x09\\x0a\\x0b\\x0c\\x0d\\x0e\\x0f\\xff\\x03\\x9f'\n",
    "print(image[:8])\n",
    "print(image[8:16])"
   ]
  },
  {
   "cell_type": "code",
   "execution_count": 22,
   "metadata": {},
   "outputs": [],
   "source": [
    "def xor(a,b):\n",
    "    '''\n",
    "    xor function for bytes operation, a,b should both be bytes type\n",
    "    '''\n",
    "    data = \"\"\n",
    "    # second xor text with iv\n",
    "    for a1,b1 in zip(a, b):\n",
    "    # make the string in 0x00 form, or some informaiton would lose\n",
    "        c = format(a1^b1, '#04x')\n",
    "        data += c[2:]\n",
    "    pText = bytes.fromhex(data)\n",
    "    return pText"
   ]
  },
  {
   "cell_type": "code",
   "execution_count": 25,
   "metadata": {},
   "outputs": [
    {
     "name": "stdout",
     "output_type": "stream",
     "text": [
      "b'\\x00\\x00\\x00\\x00\\x00\\x00\\x00\\x01\\x00\\x00\\x00\\x04\\x00\\x00\\x00\\x00\\x00\\x00\\x00'\n"
     ]
    }
   ],
   "source": [
    "a = b'\\x00\\x01\\x02\\x03\\x04\\x05\\x06\\x07\\x08\\x09\\x0a\\x0b\\x0c\\x0d\\x0e\\x0f\\xff\\x03\\x9f'\n",
    "b = b'\\x00\\x01\\x02\\x03\\x04\\x05\\x06\\x06\\x08\\x09\\x0a\\x0f\\x0c\\x0d\\x0e\\x0f\\xff\\x03\\x9f'\n",
    "print(xor(a,b))"
   ]
  },
  {
   "cell_type": "code",
   "execution_count": 31,
   "metadata": {},
   "outputs": [],
   "source": [
    "def data_generator(pixs, number):\n",
    "    data = []\n",
    "    for pix in pixs:\n",
    "        data.append(pix) \n",
    "        if len(data) == number:\n",
    "            yield bytes(data)   # here would be execute every number time\n",
    "            data = []           # clear the buffer\n",
    "    # padding\n",
    "    if len(data) != 0:\n",
    "        yield pad(bytes(''.join( str(x) for x in data), encoding = 'utf-8'), number)\n",
    "\n",
    "def data_generator_2(pixs, number):     # return a pair of blocks\n",
    "    '''\n",
    "    # test docstring\n",
    "    >>> image = b'a;lskdjfoiaefkddsfdssfks'\n",
    "    >>> data_generator_2(image, 8)\n",
    "    [b'a;lskdjf',b'oiaefkdd']\n",
    "    '''\n",
    "    segment = []\n",
    "    for block in data_generator(pixs, number):\n",
    "        segment.append(block)        \n",
    "        if(len(segment)==2):\n",
    "            yield segment\n",
    "            segment = []"
   ]
  },
  {
   "cell_type": "code",
   "execution_count": 33,
   "metadata": {},
   "outputs": [
    {
     "name": "stdout",
     "output_type": "stream",
     "text": [
      "[b'\\x00\\x01', b'\\x02\\x03']\n",
      "[b'\\x04\\x05', b'\\x06\\x07']\n",
      "[b'\\x08\\t', b'\\n\\x0b']\n",
      "[b'\\x0c\\r', b'\\x0e\\x0f']\n"
     ]
    },
    {
     "ename": "NameError",
     "evalue": "name 'pad' is not defined",
     "output_type": "error",
     "traceback": [
      "\u001b[1;31m---------------------------------------------------------------------------\u001b[0m",
      "\u001b[1;31mNameError\u001b[0m                                 Traceback (most recent call last)",
      "\u001b[1;32m<ipython-input-33-11db5159fc47>\u001b[0m in \u001b[0;36m<module>\u001b[1;34m\u001b[0m\n\u001b[0;32m      1\u001b[0m \u001b[0ma\u001b[0m \u001b[1;33m=\u001b[0m \u001b[1;34mb'\\x00\\x01\\x02\\x03\\x04\\x05\\x06\\x07\\x08\\x09\\x0a\\x0b\\x0c\\x0d\\x0e\\x0f\\xff\\x03\\x9f'\u001b[0m\u001b[1;33m\u001b[0m\u001b[1;33m\u001b[0m\u001b[0m\n\u001b[1;32m----> 2\u001b[1;33m \u001b[1;32mfor\u001b[0m \u001b[0ma\u001b[0m \u001b[1;32min\u001b[0m \u001b[0mdata_generator_2\u001b[0m\u001b[1;33m(\u001b[0m\u001b[0ma\u001b[0m\u001b[1;33m,\u001b[0m\u001b[1;36m2\u001b[0m\u001b[1;33m)\u001b[0m\u001b[1;33m:\u001b[0m\u001b[1;33m\u001b[0m\u001b[1;33m\u001b[0m\u001b[0m\n\u001b[0m\u001b[0;32m      3\u001b[0m     \u001b[0mprint\u001b[0m\u001b[1;33m(\u001b[0m\u001b[0ma\u001b[0m\u001b[1;33m)\u001b[0m\u001b[1;33m\u001b[0m\u001b[1;33m\u001b[0m\u001b[0m\n",
      "\u001b[1;32m<ipython-input-31-601eababf66d>\u001b[0m in \u001b[0;36mdata_generator_2\u001b[1;34m(pixs, number)\u001b[0m\n\u001b[0;32m     18\u001b[0m     '''\n\u001b[0;32m     19\u001b[0m     \u001b[0msegment\u001b[0m \u001b[1;33m=\u001b[0m \u001b[1;33m[\u001b[0m\u001b[1;33m]\u001b[0m\u001b[1;33m\u001b[0m\u001b[1;33m\u001b[0m\u001b[0m\n\u001b[1;32m---> 20\u001b[1;33m     \u001b[1;32mfor\u001b[0m \u001b[0mblock\u001b[0m \u001b[1;32min\u001b[0m \u001b[0mdata_generator\u001b[0m\u001b[1;33m(\u001b[0m\u001b[0mpixs\u001b[0m\u001b[1;33m,\u001b[0m \u001b[0mnumber\u001b[0m\u001b[1;33m)\u001b[0m\u001b[1;33m:\u001b[0m\u001b[1;33m\u001b[0m\u001b[1;33m\u001b[0m\u001b[0m\n\u001b[0m\u001b[0;32m     21\u001b[0m         \u001b[0msegment\u001b[0m\u001b[1;33m.\u001b[0m\u001b[0mappend\u001b[0m\u001b[1;33m(\u001b[0m\u001b[0mblock\u001b[0m\u001b[1;33m)\u001b[0m\u001b[1;33m\u001b[0m\u001b[1;33m\u001b[0m\u001b[0m\n\u001b[0;32m     22\u001b[0m         \u001b[1;32mif\u001b[0m\u001b[1;33m(\u001b[0m\u001b[0mlen\u001b[0m\u001b[1;33m(\u001b[0m\u001b[0msegment\u001b[0m\u001b[1;33m)\u001b[0m\u001b[1;33m==\u001b[0m\u001b[1;36m2\u001b[0m\u001b[1;33m)\u001b[0m\u001b[1;33m:\u001b[0m\u001b[1;33m\u001b[0m\u001b[1;33m\u001b[0m\u001b[0m\n",
      "\u001b[1;32m<ipython-input-31-601eababf66d>\u001b[0m in \u001b[0;36mdata_generator\u001b[1;34m(pixs, number)\u001b[0m\n\u001b[0;32m      8\u001b[0m     \u001b[1;31m# padding\u001b[0m\u001b[1;33m\u001b[0m\u001b[1;33m\u001b[0m\u001b[1;33m\u001b[0m\u001b[0m\n\u001b[0;32m      9\u001b[0m     \u001b[1;32mif\u001b[0m \u001b[0mlen\u001b[0m\u001b[1;33m(\u001b[0m\u001b[0mdata\u001b[0m\u001b[1;33m)\u001b[0m \u001b[1;33m!=\u001b[0m \u001b[1;36m0\u001b[0m\u001b[1;33m:\u001b[0m\u001b[1;33m\u001b[0m\u001b[1;33m\u001b[0m\u001b[0m\n\u001b[1;32m---> 10\u001b[1;33m         \u001b[1;32myield\u001b[0m \u001b[0mpad\u001b[0m\u001b[1;33m(\u001b[0m\u001b[0mbytes\u001b[0m\u001b[1;33m(\u001b[0m\u001b[1;34m''\u001b[0m\u001b[1;33m.\u001b[0m\u001b[0mjoin\u001b[0m\u001b[1;33m(\u001b[0m \u001b[0mstr\u001b[0m\u001b[1;33m(\u001b[0m\u001b[0mx\u001b[0m\u001b[1;33m)\u001b[0m \u001b[1;32mfor\u001b[0m \u001b[0mx\u001b[0m \u001b[1;32min\u001b[0m \u001b[0mdata\u001b[0m\u001b[1;33m)\u001b[0m\u001b[1;33m,\u001b[0m \u001b[0mencoding\u001b[0m \u001b[1;33m=\u001b[0m \u001b[1;34m'utf-8'\u001b[0m\u001b[1;33m)\u001b[0m\u001b[1;33m,\u001b[0m \u001b[0mnumber\u001b[0m\u001b[1;33m)\u001b[0m\u001b[1;33m\u001b[0m\u001b[1;33m\u001b[0m\u001b[0m\n\u001b[0m\u001b[0;32m     11\u001b[0m \u001b[1;33m\u001b[0m\u001b[0m\n\u001b[0;32m     12\u001b[0m \u001b[1;32mdef\u001b[0m \u001b[0mdata_generator_2\u001b[0m\u001b[1;33m(\u001b[0m\u001b[0mpixs\u001b[0m\u001b[1;33m,\u001b[0m \u001b[0mnumber\u001b[0m\u001b[1;33m)\u001b[0m\u001b[1;33m:\u001b[0m     \u001b[1;31m# return a pair of blocks\u001b[0m\u001b[1;33m\u001b[0m\u001b[1;33m\u001b[0m\u001b[0m\n",
      "\u001b[1;31mNameError\u001b[0m: name 'pad' is not defined"
     ]
    }
   ],
   "source": [
    "a = b'\\x00\\x01\\x02\\x03\\x04\\x05\\x06\\x07\\x08\\x09\\x0a\\x0b\\x0c\\x0d\\x0e\\x0f\\xff\\x03\\x9f'\n",
    "for a in data_generator_2(a,2):\n",
    "    print(a)"
   ]
  },
  {
   "cell_type": "code",
   "execution_count": null,
   "metadata": {},
   "outputs": [],
   "source": []
  }
 ],
 "metadata": {
  "kernelspec": {
   "display_name": "Python 3",
   "language": "python",
   "name": "python3"
  },
  "language_info": {
   "codemirror_mode": {
    "name": "ipython",
    "version": 3
   },
   "file_extension": ".py",
   "mimetype": "text/x-python",
   "name": "python",
   "nbconvert_exporter": "python",
   "pygments_lexer": "ipython3",
   "version": "3.7.4"
  }
 },
 "nbformat": 4,
 "nbformat_minor": 2
}
